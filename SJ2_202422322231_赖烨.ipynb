{
 "cells": [
  {
   "cell_type": "markdown",
   "id": "0519dae6-f76a-47b8-8405-07de0f6755a4",
   "metadata": {},
   "source": [
    "# 🧮 上机练习2：NumPy 数值计算基础\n",
    "\n",
    "本 Notebook 包含：\n",
    "- 题目说明（8 题：数组创建、索引切片、矩阵运算、广播、聚合、随机数、逻辑筛选等）\n",
    "- 学生作答区（函数骨架，标注了 `# TODO`）\n",
    "\n",
    "📝 使用方式：\n",
    "1. 先阅读题目说明；\n",
    "2. 在“学生作答区”完成实现（不要修改函数名）；\n",
    "\n",
    "🗓️ 提交说明:\n",
    "\n",
    "- **命名：SJ2_学号_姓名.pdf**\n",
    "- **提交至邮箱：qilunluo@m.scnu.edu.cn**\n",
    "- **提交时间：明天(10/16)晚上 11:59 p.m. 前**\n",
    "---"
   ]
  },
  {
   "cell_type": "markdown",
   "id": "a25d48aa-90a7-483c-981c-6b40a0f3090a",
   "metadata": {},
   "source": [
    "## 题目说明\n",
    "\n",
    "## 题1：创建指定形状与数值的数组\n",
    "\n",
    "**说明：** 实现 `create_array(n, m, value)`：\n",
    "- 创建一个形状为 `(n, m)` 的 NumPy 数组；\n",
    "- 每个元素都为 `value`；\n",
    "- 数据类型为 `float`。\n",
    "\n",
    "---\n",
    "\n",
    "## 题2：生成等差数列并计算平均值\n",
    "\n",
    "**说明：** 实现 `arange_mean(start, stop, step)`：\n",
    "- 使用 `np.arange` 生成等差序列；\n",
    "- 返回该数组的平均值。\n",
    "\n",
    "---\n",
    "\n",
    "## 题3：找出数组中大于平均值的元素\n",
    "\n",
    "**说明：** 实现 `greater_than_mean(arr)`：\n",
    "- 输入 1D 数组；\n",
    "- 返回所有**大于平均值**的元素组成的新数组。\n",
    "\n",
    "---\n",
    "\n",
    "## 题4：生成随机数组并归一化\n",
    "\n",
    "**说明：** 实现 `normalize_random(size)`：\n",
    "- 生成 `[0, 1)` 区间的随机浮点数组；\n",
    "- 长度为 `size`；\n",
    "- 返回**归一化后**的数组，使其和为 1。\n",
    "\n",
    "---\n",
    "\n",
    "## 题5：计算矩阵的对角线差值\n",
    "\n",
    "**说明：** 实现 `diag_diff(mat)`：\n",
    "- 计算矩阵主对角线与副对角线元素之和的差；\n",
    "- 返回 `abs(主对角和 - 副对角和)`。\n",
    "\n",
    "---\n",
    "\n",
    "## 题6：按行标准化（Z-score）\n",
    "\n",
    "**说明：** 实现 `standardize_rows(X, eps=1e-8)`：\n",
    "- 对二维数组 `X` **逐行**做标准化：`(x - 均值) / (标准差)`；\n",
    "- 当标准差接近 0 时，用 `eps` 防止除零。返回与 `X` 同形状数组。\n",
    "\n",
    "---\n",
    "\n",
    "## 题7：两组向量的两两欧氏距离（矢量化）\n",
    "\n",
    "**说明：** 实现 `pairwise_distances(A, B)`：\n",
    "- 输入 `A` 形状 `(m, d)`，`B` 形状 `(n, d)`；\n",
    "- 返回形状 `(m, n)` 的距离矩阵，**不使用 Python for 循环**。\n",
    "\n",
    "---\n",
    "\n",
    "## 题8：线性最小二乘（伪逆解 + MSE）\n",
    "\n",
    "**说明：** 实现 `least_squares_theta(X, y)`：\n",
    "- 给定 `X`(n×d)、`y`(n,)，使用 `np.linalg.pinv` 计算 `θ = pinv(X) @ y`\n",
    "- 同时返回训练集均方误差 `MSE = mean((X@θ - y)^2)`。\n",
    "- 返回 `(theta, mse)`。"
   ]
  },
  {
   "cell_type": "markdown",
   "id": "24405cc0-12b0-4153-baaf-392e97da1235",
   "metadata": {},
   "source": [
    "---\n",
    "## 学生作答区（请在下方函数中完成 TODO，不要改函数名/参数）"
   ]
  },
  {
   "cell_type": "markdown",
   "id": "69f1b39d-fccf-4f71-9529-df126b51b016",
   "metadata": {},
   "source": [
    "### 环境准备\n",
    "运行下方单元格以导入 NumPy。"
   ]
  },
  {
   "cell_type": "code",
   "execution_count": 26,
   "id": "8fd54915-1a2a-43fb-ad9d-417ca8b353f6",
   "metadata": {},
   "outputs": [
    {
     "data": {
      "text/plain": [
       "'2.2.4'"
      ]
     },
     "execution_count": 26,
     "metadata": {},
     "output_type": "execute_result"
    }
   ],
   "source": [
    "import numpy as np\n",
    "np.__version__"
   ]
  },
  {
   "cell_type": "code",
   "execution_count": 5,
   "id": "16c26163-4bbb-4a75-9e83-f127238a820e",
   "metadata": {},
   "outputs": [],
   "source": [
    "# —— 题1 ——\n",
    "def create_array(n: int, m: int, value: float) -> np.ndarray:\n",
    "    # TODO: 创建形状 (n, m) 的数组，所有元素为 value，类型为 float\n",
    "    return np.full((n, m), value, dtype=float)\n",
    "    raise NotImplementedError\n",
    "    \n",
    "\n",
    "# —— 题2 ——\n",
    "def arange_mean(start: float, stop: float, step: float) -> float:\n",
    "    # TODO: 用 np.arange 生成数组，返回平均值\n",
    "    warray = np.arange(start, stop, step)\n",
    "    return warray.mean()\n",
    "    raise NotImplementedError\n",
    "\n",
    "\n",
    "# —— 题3 ——\n",
    "def greater_than_mean(arr: np.ndarray) -> np.ndarray:\n",
    "    # TODO: 逻辑筛选，返回大于 arr.mean() 的元素\n",
    "    mask = arr > arr.mean()\n",
    "    return (arr[mask])\n",
    "    raise NotImplementedError\n",
    "\n",
    "\n",
    "# —— 题4 ——\n",
    "def normalize_random(size: int) -> np.ndarray:\n",
    "    # TODO: np.random.rand + 除以总和\n",
    "    arr = np.random.rand(5)\n",
    "    return arr/arr.sum()\n",
    "    raise NotImplementedError\n",
    "\n",
    "\n",
    "# —— 题5 ——\n",
    "def diag_diff(mat: np.ndarray) -> float:\n",
    "    # TODO: np.trace + np.fliplr\n",
    "    if mat.shape[0] != mat.shape[1]:\n",
    "        raise IndexError(\"矩阵不是方阵\")\n",
    "    return np.trace - np.fliplr\n",
    "    raise NotImplementedError\n",
    "\n",
    "\n",
    "# —— 题6 ——\n",
    "def standardize_rows(X: np.ndarray, eps: float = 1e-8) -> np.ndarray:\n",
    "    # TODO: 逐行标准化；注意保持形状广播 (n,1)\n",
    "    row_means = X.mean(axis=1, keepdims=True)\n",
    "    row_stds = X.std(axis=1, keepdims=True)\n",
    "    standardized_X = (X - row_means) / (row_stds + eps)\n",
    "    return standardized_X\n",
    "    raise NotImplementedError\n",
    "        \n",
    "\n",
    "# —— 题7 ——\n",
    "def pairwise_distances(A: np.ndarray, B: np.ndarray) -> np.ndarray:\n",
    "    # TODO: 使用 (a^2 + b^2 - 2ab) 的展开式矢量化实现\n",
    "    A_squared = np.sum(A**2, axis=1, keepdims=True)\n",
    "    B_squared = np.sum(B**2, axis=1)\n",
    "    dot_product = -2 * (A @ B.T)\n",
    "    D_squared = A_squared + B_squared + dot_product\n",
    "    D_squared = np.maximum(D_squared, 0)\n",
    "    return D_squared\n",
    "    raise NotImplementedError\n",
    "\n",
    "\n",
    "# —— 题8 ——\n",
    "def least_squares_theta(X: np.ndarray, y: np.ndarray) -> tuple[np.ndarray, float]:\n",
    "    # TODO: θ = pinv(X) @ y；并返回 MSE\n",
    "    X_pinv = np.linalg.pinv(X)\n",
    "    theta = X_pinv @ y\n",
    "    y_pred = X @ theta\n",
    "    residuals = y - y_pred\n",
    "    mse = np.mean(residuals**2)\n",
    "    return theta, mse\n",
    "    raise NotImplementedError"
   ]
  },
  {
   "cell_type": "markdown",
   "id": "ec8bec0b-0562-460a-8358-c211aa4244b5",
   "metadata": {},
   "source": [
    "---\n",
    "## 示例"
   ]
  },
  {
   "cell_type": "code",
   "execution_count": 27,
   "id": "416f3cc4-663b-43bd-8819-b5bb557bfa7c",
   "metadata": {},
   "outputs": [],
   "source": [
    "def create_array(n: int, m: int, value: float) -> np.ndarray:\n",
    "    return np.full((n, m), value, dtype=float)"
   ]
  },
  {
   "cell_type": "code",
   "execution_count": 28,
   "id": "9f870583-782b-4c79-a9a8-da7fee59c2c8",
   "metadata": {},
   "outputs": [
    {
     "name": "stdout",
     "output_type": "stream",
     "text": [
      "[[5.5 5.5 5.5]\n",
      " [5.5 5.5 5.5]]\n"
     ]
    }
   ],
   "source": [
    "print(create_array(2, 3, 5.5))"
   ]
  },
  {
   "cell_type": "code",
   "execution_count": 29,
   "id": "e8060e03",
   "metadata": {},
   "outputs": [
    {
     "data": {
      "text/plain": [
       "np.float64(4.5)"
      ]
     },
     "execution_count": 29,
     "metadata": {},
     "output_type": "execute_result"
    }
   ],
   "source": [
    "def arange_mean(start: float, stop: float, step: float) -> float:\n",
    "    # TODO: 用 np.arange 生成数组，返回平均值\n",
    "    warray = np.arange(start, stop, step)\n",
    "    return warray.mean()\n",
    "arange_mean(0,10,1)"
   ]
  },
  {
   "cell_type": "code",
   "execution_count": 30,
   "id": "092ca29c",
   "metadata": {},
   "outputs": [
    {
     "data": {
      "text/plain": [
       "array([5, 6, 7, 8, 9])"
      ]
     },
     "execution_count": 30,
     "metadata": {},
     "output_type": "execute_result"
    }
   ],
   "source": [
    "def greater_than_mean(arr: np.ndarray) -> np.ndarray:\n",
    "    # TODO: 逻辑筛选，返回大于 arr.mean() 的元素\n",
    "    mask = arr > arr.mean()\n",
    "    return (arr[mask])\n",
    "greater_than_mean(np.arange(0,10,1))"
   ]
  },
  {
   "cell_type": "code",
   "execution_count": 31,
   "id": "8e40fb0e",
   "metadata": {},
   "outputs": [
    {
     "data": {
      "text/plain": [
       "array([0.47947873, 0.01617377, 0.25375627, 0.20690833, 0.04368291])"
      ]
     },
     "execution_count": 31,
     "metadata": {},
     "output_type": "execute_result"
    }
   ],
   "source": [
    "def normalize_random(size: int) -> np.ndarray:\n",
    "    # TODO: np.random.rand + 除以总和\n",
    "    arr = np.random.rand(5)\n",
    "    return arr/arr.sum()\n",
    "normalize_random(5)"
   ]
  },
  {
   "cell_type": "code",
   "execution_count": 32,
   "id": "243ccea8",
   "metadata": {},
   "outputs": [
    {
     "data": {
      "text/plain": [
       "np.int64(6)"
      ]
     },
     "execution_count": 32,
     "metadata": {},
     "output_type": "execute_result"
    }
   ],
   "source": [
    "def diag_diff(mat: np.ndarray) -> float:\n",
    "    # TODO: np.trace + np.fliplr\n",
    "    if mat.shape[0] != mat.shape[1]:\n",
    "        raise IndexError(\"矩阵不是方阵\")\n",
    "    return np.trace(mat) - np.trace(np.fliplr(mat))\n",
    "diag_diff(np.diag([1,2,2,1]))"
   ]
  },
  {
   "cell_type": "code",
   "execution_count": 33,
   "id": "0ab64c50",
   "metadata": {},
   "outputs": [
    {
     "data": {
      "text/plain": [
       "array([[-0.70710663,  1.41421326, -0.70710663],\n",
       "       [-1.37281294,  0.39223227,  0.98058067],\n",
       "       [-0.98058067, -0.39223227,  1.37281294]])"
      ]
     },
     "execution_count": 33,
     "metadata": {},
     "output_type": "execute_result"
    }
   ],
   "source": [
    "def standardize_rows(X: np.ndarray, eps: float = 1e-8) -> np.ndarray:\n",
    "    # TODO: 逐行标准化；注意保持形状广播 (n,1)\n",
    "    row_means = X.mean(axis=1, keepdims=True)\n",
    "    row_stds = X.std(axis=1, keepdims=True)\n",
    "    standardized_X = (X - row_means) / (row_stds + eps)\n",
    "    return standardized_X\n",
    "standardize_rows(np.array([[1,1.1,1],[1,4,5],[2,4,10]]))"
   ]
  },
  {
   "cell_type": "code",
   "execution_count": 35,
   "id": "9222abbe",
   "metadata": {},
   "outputs": [
    {
     "data": {
      "text/plain": [
       "array([[1.        , 1.        ],\n",
       "       [0.        , 1.41421356],\n",
       "       [1.        , 1.        ]])"
      ]
     },
     "execution_count": 35,
     "metadata": {},
     "output_type": "execute_result"
    }
   ],
   "source": [
    "def pairwise_distances(A: np.ndarray, B: np.ndarray) -> np.ndarray:\n",
    "    # TODO: 使用 (a^2 + b^2 - 2ab) 的展开式矢量化实现\n",
    "    A_squared = np.sum(A**2, axis=1, keepdims=True)\n",
    "    B_squared = np.sum(B**2, axis=1)\n",
    "    dot_product = -2 * (A @ B.T)\n",
    "    D_squared = A_squared + B_squared + dot_product\n",
    "    D_squared = np.maximum(D_squared, 0)\n",
    "    D = np.sqrt(D_squared)\n",
    "    return D\n",
    "pairwise_distances(np.array([[0,0],[1,0],[1,1]]),np.array([[1,0],[0,1]]))"
   ]
  },
  {
   "cell_type": "code",
   "execution_count": 36,
   "id": "8c425ee7",
   "metadata": {},
   "outputs": [
    {
     "name": "stdout",
     "output_type": "stream",
     "text": [
      "(array([2., 3.]), np.float64(5.259072701473412e-30)) [ 5.  8. 11.]\n"
     ]
    }
   ],
   "source": [
    "def least_squares_theta(X: np.ndarray, y: np.ndarray) -> tuple[np.ndarray, float]:\n",
    "    # TODO: θ = pinv(X) @ y；并返回 MSE\n",
    "    X_pinv = np.linalg.pinv(X)\n",
    "    theta = X_pinv @ y\n",
    "    y_pred = X @ theta\n",
    "    residuals = y - y_pred\n",
    "    mse = np.mean(residuals**2)\n",
    "    return theta, mse\n",
    "X = np.array([[1, 1],[1, 2], [1, 3]])\n",
    "Y = np.array([5, 8, 11])\n",
    "a = least_squares_theta(X, Y)\n",
    "b = X @ a[0]\n",
    "print(a,b)"
   ]
  }
 ],
 "metadata": {
  "kernelspec": {
   "display_name": "Python 3 (ipykernel)",
   "language": "python",
   "name": "python3"
  },
  "language_info": {
   "codemirror_mode": {
    "name": "ipython",
    "version": 3
   },
   "file_extension": ".py",
   "mimetype": "text/x-python",
   "name": "python",
   "nbconvert_exporter": "python",
   "pygments_lexer": "ipython3",
   "version": "3.12.4"
  }
 },
 "nbformat": 4,
 "nbformat_minor": 5
}
